{
 "cells": [
  {
   "cell_type": "code",
   "execution_count": 1,
   "id": "d428bdf6",
   "metadata": {},
   "outputs": [
    {
     "name": "stdout",
     "output_type": "stream",
     "text": [
      "  Temporada Equipe  Pontos  Gols Marcados  Gols Sofridos\n",
      "0      2020  TimeA       3              2              1\n",
      "1      2020  TimeB       1              1              2\n",
      "2      2020  TimeC       0              0              3\n",
      "3      2021  TimeA       2              3              2\n",
      "4      2021  TimeB       2              2              3\n"
     ]
    },
    {
     "data": {
      "image/png": "[encoded data removed]",
      "text/plain": [
       "<Figure size 576x288 with 1 Axes>"
      ]
     },
     "metadata": {
      "needs_background": "light"
     },
     "output_type": "display_data"
    }
   ],
   "source": [
    "# Importando bibliotecas necessárias\n",
    "import pandas as pd\n",
    "import matplotlib.pyplot as plt\n",
    "\n",
    "# Criando um conjunto de dados fictício de partidas de futebol\n",
    "dados_esportes = {\n",
    "    'Temporada': ['2020', '2020', '2020', '2021', '2021', '2021', '2022', '2022', '2022'],\n",
    "    'Equipe': ['TimeA', 'TimeB', 'TimeC', 'TimeA', 'TimeB', 'TimeC', 'TimeA', 'TimeB', 'TimeC'],\n",
    "    'Pontos': [3, 1, 0, 2, 2, 1, 3, 0, 2],\n",
    "    'Gols Marcados': [2, 1, 0, 3, 2, 1, 2, 1, 1],\n",
    "    'Gols Sofridos': [1, 2, 3, 2, 3, 2, 0, 2, 3]\n",
    "}\n",
    "\n",
    "# Criando um DataFrame a partir do conjunto de dados\n",
    "df_esportes = pd.DataFrame(dados_esportes)\n",
    "\n",
    "# Visualizando os primeiros registros do DataFrame\n",
    "print(df_esportes.head())\n",
    "\n",
    "# Análise de Desempenho por Temporada\n",
    "desempenho_por_temporada = df_esportes.groupby('Temporada')['Pontos'].sum()\n",
    "\n",
    "# Visualizando gráfico de desempenho por temporada\n",
    "fig, ax = plt.subplots(figsize=(8, 4))\n",
    "desempenho_por_temporada.plot(kind='bar', ax=ax)\n",
    "ax.set_title('Desempenho por Temporada')\n",
    "ax.set_ylabel('Pontos')\n",
    "\n",
    "# Exibindo os gráficos\n",
    "plt.show()\n"
   ]
  },
  {
   "cell_type": "code",
   "execution_count": null,
   "id": "7e552de2",
   "metadata": {},
   "outputs": [],
   "source": []
  }
 ],
 "metadata": {
  "kernelspec": {
   "display_name": "Python 3 (ipykernel)",
   "language": "python",
   "name": "python3"
  },
  "language_info": {
   "codemirror_mode": {
    "name": "ipython",
    "version": 3
   },
   "file_extension": ".py",
   "mimetype": "text/x-python",
   "name": "python",
   "nbconvert_exporter": "python",
   "pygments_lexer": "ipython3",
   "version": "3.9.12"
  }
 },
 "nbformat": 4,
 "nbformat_minor": 5
}
